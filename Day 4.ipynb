{
 "cells": [
  {
   "cell_type": "code",
   "execution_count": 8,
   "id": "6087cec0",
   "metadata": {},
   "outputs": [
    {
     "name": "stdout",
     "output_type": "stream",
     "text": [
      "[5, 5, 5, 5, 5]\n"
     ]
    }
   ],
   "source": [
    "l=[5]*5\n",
    "print(l)"
   ]
  },
  {
   "cell_type": "code",
   "execution_count": 6,
   "id": "7079b803",
   "metadata": {
    "scrolled": true
   },
   "outputs": [
    {
     "data": {
      "text/plain": [
       "15"
      ]
     },
     "execution_count": 6,
     "metadata": {},
     "output_type": "execute_result"
    }
   ],
   "source": [
    "#XOR : if two operators are same gives false, else  true\n",
    "5^10"
   ]
  },
  {
   "cell_type": "code",
   "execution_count": 7,
   "id": "da0d211d",
   "metadata": {},
   "outputs": [],
   "source": [
    "#packages"
   ]
  },
  {
   "cell_type": "code",
   "execution_count": 1,
   "id": "b6afe07a",
   "metadata": {},
   "outputs": [],
   "source": [
    "#oops\n",
    "class student:\n",
    "    name=''\n",
    "    roll_number=''\n",
    "    branch=''\n",
    "    marks=0\n",
    "    attendance=0.0\n",
    "    is_using_transport=False                                #self is a keyword that defines the method belongs to class.\n",
    "    def view_attendance(self):\n",
    "        pass\n",
    "    def view_marks(self):\n",
    "        pass\n",
    "    def view_profile(self):\n",
    "        pass\n",
    "    def update_name(self,new_name):\n",
    "        pass"
   ]
  },
  {
   "cell_type": "code",
   "execution_count": 2,
   "id": "cf64088c",
   "metadata": {},
   "outputs": [],
   "source": [
    "class student:\n",
    "    def __init__(self):               #default constructor\n",
    "        pass"
   ]
  },
  {
   "cell_type": "code",
   "execution_count": 3,
   "id": "add67fc9",
   "metadata": {},
   "outputs": [
    {
     "name": "stdout",
     "output_type": "stream",
     "text": [
      "object created \n",
      "mukhesh\n"
     ]
    }
   ],
   "source": [
    "class Student:\n",
    "    student_name=''\n",
    "    def __init__(self,student_name):\n",
    "        print('object created ')\n",
    "        print(student_name)\n",
    "s1=Student('mukhesh')      #constructor"
   ]
  },
  {
   "cell_type": "code",
   "execution_count": 5,
   "id": "b0d6ecfb",
   "metadata": {},
   "outputs": [
    {
     "name": "stdout",
     "output_type": "stream",
     "text": [
      "object created \n",
      "xy\n"
     ]
    }
   ],
   "source": [
    "class Student:\n",
    "    student_name='xy'\n",
    "    def __init__(self,student_name):\n",
    "        print('object created ')\n",
    "        print(self.student_name)\n",
    "s1=Student('mukhesh') "
   ]
  },
  {
   "cell_type": "code",
   "execution_count": 8,
   "id": "eaecbea1",
   "metadata": {},
   "outputs": [
    {
     "name": "stdout",
     "output_type": "stream",
     "text": [
      "object created \n",
      "pavani\n",
      "chai\n",
      "pavani\n",
      "object created \n",
      "honey\n",
      "chai\n",
      "honey\n",
      "honey\n",
      "pavani\n"
     ]
    }
   ],
   "source": [
    "class Student:\n",
    "    student_name='chai'\n",
    "    def __init__(self,name):\n",
    "        print('object created ')\n",
    "        print(name)\n",
    "        print(self.student_name)\n",
    "        self.student_name=name\n",
    "        print(self.student_name)\n",
    "s1=Student('pavani') \n",
    "s2=Student('honey')\n",
    "print(s2.student_name)\n",
    "print(s1.student_name)"
   ]
  },
  {
   "cell_type": "code",
   "execution_count": null,
   "id": "c92a58ba",
   "metadata": {},
   "outputs": [],
   "source": [
    "class UserClass:\n",
    "    full_name=''\n",
    "    email=''\n",
    "    __password=''\n",
    "    mobile_number=''\n",
    "    def __init__(self,name,email,password):\n",
    "        self.full_name=name\n",
    "        self.email=email\n",
    "        self.__password=password\n",
    "    def update_name(self,new_name):\n",
    "        self.full_name=new_name\n",
    "    def get_name(self):\n",
    "        return self.full_name\n",
    "    \"\"\"setter method for private variable password\"\"\"\n",
    "    def update_password(self,new_password):\n",
    "        self.__password=new_password\n",
    "    def update_mobile_number(self,new_number):\n",
    "        self.mobile_number=new_number\n",
    "    \"\"\"getter method for private variable password\"\"\"\n",
    "    def get_user_password(self):\n",
    "        return self.__password"
   ]
  },
  {
   "cell_type": "code",
   "execution_count": 3,
   "id": "8a426c01",
   "metadata": {},
   "outputs": [
    {
     "ename": "ModuleNotFoundError",
     "evalue": "No module named 'User'",
     "output_type": "error",
     "traceback": [
      "\u001b[1;31m---------------------------------------------------------------------------\u001b[0m",
      "\u001b[1;31mModuleNotFoundError\u001b[0m                       Traceback (most recent call last)",
      "Input \u001b[1;32mIn [3]\u001b[0m, in \u001b[0;36m<cell line: 1>\u001b[1;34m()\u001b[0m\n\u001b[1;32m----> 1\u001b[0m \u001b[38;5;28;01mfrom\u001b[39;00m \u001b[38;5;21;01mUser\u001b[39;00m \u001b[38;5;28;01mimport\u001b[39;00m UserClass\n\u001b[0;32m      2\u001b[0m \u001b[38;5;28;01mclass\u001b[39;00m \u001b[38;5;21;01mLogin\u001b[39;00m:\n\u001b[0;32m      3\u001b[0m     __db\u001b[38;5;241m=\u001b[39m[]\n",
      "\u001b[1;31mModuleNotFoundError\u001b[0m: No module named 'User'"
     ]
    }
   ],
   "source": [
    "from User import UserClass\n",
    "class Login:\n",
    "    __db=[]\n",
    "    def __init__(self):\n",
    "        self.print_menu()\n",
    "    def print_menu(self):\n",
    "        print('Welcome user')\n",
    "        print('1.Registration')\n",
    "        print('2. Login')\n",
    "        print('3. Exit')\n",
    "    def create_user(self,name,email,password):\n",
    "        new_user=UserClass(name,email,password)\n",
    "        self.__db.append(new_user)\n",
    "        print(self.__db)\n",
    "        return True\n",
    "    def validate_user(self,email,password):\n",
    "        pass\n",
    "    \n",
    "obj=Login()\n",
    "while True:\n",
    "    option=input('Enter your choice')\n",
    "    if option=='1':\n",
    "        name=input('Enter your full name')\n",
    "        email=input('Enter email')\n",
    "        password=input('Enter new password')\n",
    "        res=obj.create_user(name,email,password)\n",
    "        if res==True:\n",
    "            print('Created Successfully')\n",
    "    elif option=='2':\n",
    "        pass\n",
    "    elif option=='3':\n",
    "        break\n",
    "    else:\n",
    "        print('invalid input')"
   ]
  },
  {
   "cell_type": "code",
   "execution_count": 2,
   "id": "b85ab912",
   "metadata": {},
   "outputs": [
    {
     "data": {
      "text/plain": [
       "True"
      ]
     },
     "execution_count": 2,
     "metadata": {},
     "output_type": "execute_result"
    }
   ],
   "source": [
    "#ASCII\n",
    "'A'.lower() in'dsjtguhihbvdac'"
   ]
  },
  {
   "cell_type": "code",
   "execution_count": 1,
   "id": "b2944fb1",
   "metadata": {
    "scrolled": true
   },
   "outputs": [
    {
     "name": "stdout",
     "output_type": "stream",
     "text": [
      "P1537sdbcfxhgrfv@gmail.com\n",
      "valid email\n"
     ]
    }
   ],
   "source": [
    "email=input()\n",
    "if '@gmail.com' in email:\n",
    "    first=email[0].lower()\n",
    "    if first.isalpha():\n",
    "        print('valid email')\n",
    "    else:\n",
    "        print('invalid email : first character should be alphabet')\n",
    "else:\n",
    "    print('invalid email')"
   ]
  },
  {
   "cell_type": "code",
   "execution_count": null,
   "id": "a5c8d1ab",
   "metadata": {},
   "outputs": [],
   "source": []
  }
 ],
 "metadata": {
  "kernelspec": {
   "display_name": "Python 3 (ipykernel)",
   "language": "python",
   "name": "python3"
  },
  "language_info": {
   "codemirror_mode": {
    "name": "ipython",
    "version": 3
   },
   "file_extension": ".py",
   "mimetype": "text/x-python",
   "name": "python",
   "nbconvert_exporter": "python",
   "pygments_lexer": "ipython3",
   "version": "3.9.12"
  }
 },
 "nbformat": 4,
 "nbformat_minor": 5
}
